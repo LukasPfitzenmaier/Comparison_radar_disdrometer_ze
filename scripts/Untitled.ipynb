{
 "cells": [
  {
   "cell_type": "code",
   "execution_count": 1,
   "metadata": {},
   "outputs": [
    {
     "ename": "ImportError",
     "evalue": "No module named raincoat.scatTable",
     "output_type": "error",
     "traceback": [
      "\u001b[0;31m---------------------------------------------------------------------------\u001b[0m",
      "\u001b[0;31mImportError\u001b[0m                               Traceback (most recent call last)",
      "\u001b[0;32m<ipython-input-1-9100c27c776f>\u001b[0m in \u001b[0;36m<module>\u001b[0;34m()\u001b[0m\n\u001b[1;32m      2\u001b[0m \u001b[0;32mimport\u001b[0m \u001b[0mnumpy\u001b[0m \u001b[0;32mas\u001b[0m \u001b[0mnp\u001b[0m\u001b[0;34m\u001b[0m\u001b[0m\n\u001b[1;32m      3\u001b[0m \u001b[0;34m\u001b[0m\u001b[0m\n\u001b[0;32m----> 4\u001b[0;31m \u001b[0;32mfrom\u001b[0m \u001b[0mraincoat\u001b[0m\u001b[0;34m.\u001b[0m\u001b[0mscatTable\u001b[0m \u001b[0;32mimport\u001b[0m \u001b[0mwater\u001b[0m\u001b[0;34m\u001b[0m\u001b[0m\n\u001b[0m\u001b[1;32m      5\u001b[0m \u001b[0;32mfrom\u001b[0m \u001b[0mraincoat\u001b[0m\u001b[0;34m.\u001b[0m\u001b[0mscatTable\u001b[0m\u001b[0;34m.\u001b[0m\u001b[0mTMMrain\u001b[0m \u001b[0;32mimport\u001b[0m \u001b[0mscatTable\u001b[0m\u001b[0;34m\u001b[0m\u001b[0m\n\u001b[1;32m      6\u001b[0m \u001b[0;32mfrom\u001b[0m \u001b[0mpytmatrix\u001b[0m \u001b[0;32mimport\u001b[0m \u001b[0mtmatrix_aux\u001b[0m\u001b[0;34m\u001b[0m\u001b[0m\n",
      "\u001b[0;31mImportError\u001b[0m: No module named raincoat.scatTable"
     ]
    }
   ],
   "source": [
    "# -*- coding: utf-8 -*-\n",
    "import numpy as np\n",
    "\n",
    "from raincoat.scatTable import water\n",
    "from raincoat.scatTable.TMMrain import scatTable\n",
    "from pytmatrix import tmatrix_aux\n",
    "\n",
    "f = 94.0 #GHz\n",
    "T = 293.15 # Kelvin\n",
    "sizes = np.arange(0.01, 8.5, 0.01) # mm\n",
    "\n",
    "table = scatTable(frequency=f,\n",
    "\t\t\t\t  n=water.n(T, f*1.e9),\n",
    "\t\t\t\t  sizes=sizes,\n",
    "\t\t\t\t  canting=10.0,\n",
    "\t\t\t\t  elevation=90.0,\n",
    "\t\t\t\t  aspect_ratio_func=tmatrix_aux.dsr_thurai_2007)\n",
    "\n",
    "table.compute(verbose=True, procs=1)\n",
    "table.save_text_scat_table('../samplefiles/scattering/' + str(T) + '_' + str(f) + 'GHz.csv')"
   ]
  }
 ],
 "metadata": {
  "kernelspec": {
   "display_name": "Python 2",
   "language": "python",
   "name": "python2"
  },
  "language_info": {
   "codemirror_mode": {
    "name": "ipython",
    "version": 2
   },
   "file_extension": ".py",
   "mimetype": "text/x-python",
   "name": "python",
   "nbconvert_exporter": "python",
   "pygments_lexer": "ipython2",
   "version": "2.7.12"
  }
 },
 "nbformat": 4,
 "nbformat_minor": 2
}
